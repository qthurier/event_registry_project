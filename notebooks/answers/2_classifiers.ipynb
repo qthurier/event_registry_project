{
 "cells": [
  {
   "cell_type": "markdown",
   "metadata": {},
   "source": [
    "#### Notebook purpose\n",
    "This notebooks aims to evaluate various machine learning models trained to classify news articles collected on http://eventregistry.org into 3 distinct categories, which are: politics, sports and other. Please refer to notebooks/workspace/0_extract_data.ipynb for details about the data extraction process.\n",
    "\n",
    "After few early attempts at training a classifer to predict only 2 categories (sport vs politics) with the entire body of the articles I got almost perfect results which was suspicious. Since I didn't have enough time to double check where the information leak was, I decided to pivot a bit the problem by classifying documents into 3 categories and by limiting the content of the articles to the first 250 characters. \n",
    "\n",
    "For details about the split between the training and the test datasets please refer to notebooks/workspace/2_prepare_data_for_modeling.ipynb.\n",
    "\n",
    "For classical machine learning models, we used the 5-folds cross validation f1 score (macro) as a selection criterion. The f1 score is a common measure in document classification that take into account both recall and precision. Please refer to notebooks/workspace/3_predictive_modelling_classical_ml.ipynb for details about the model selection process.\n",
    "\n",
    "For the deep learning model we used an early stopping strategy on the validation categorical crossentropy to select the best model. Please refer to notebooks/workspace/4_predictive_modelling_deep_learning.ipynb for details about the model selection process."
   ]
  },
  {
   "cell_type": "markdown",
   "metadata": {},
   "source": [
    "#### Notes on the results\n",
    "Losgistic regression models perform quite well on this problem and are fast to train. We observe that adding more features tend to increase their performance (cf notebooks/workspace/3_predictive_modelling_classical_ml.ipynb).\n",
    "\n",
    "In the end the boosting model is the worst classifier, although if I had more time I could have done a grid search on a larger space which would have returned a more performant combination of parameters presumably.\n",
    "\n",
    "Overall the deep learning model seems to perform slightly better. I didn't have enough time to use pretrained word embeddings but this is something to explore."
   ]
  },
  {
   "cell_type": "markdown",
   "metadata": {},
   "source": [
    "#### Load training and test X & y"
   ]
  },
  {
   "cell_type": "code",
   "execution_count": 1,
   "metadata": {},
   "outputs": [],
   "source": [
    "import pandas as pd\n",
    "from ast import literal_eval"
   ]
  },
  {
   "cell_type": "code",
   "execution_count": 2,
   "metadata": {},
   "outputs": [],
   "source": [
    "data_path = '../../data/'\n",
    "models_path = '../../models/'"
   ]
  },
  {
   "cell_type": "code",
   "execution_count": 3,
   "metadata": {},
   "outputs": [],
   "source": [
    "X_train = pd.read_csv(f'{data_path}X_train.csv', converters={'event_list': literal_eval, 'person_list': literal_eval})\n",
    "X_test = pd.read_csv(f'{data_path}X_test.csv', converters={'event_list': literal_eval, 'person_list': literal_eval})\n",
    "y_train = pd.read_csv(f'{data_path}y_train.csv').values.ravel()\n",
    "y_test = pd.read_csv(f'{data_path}y_test.csv').values.ravel()"
   ]
  },
  {
   "cell_type": "code",
   "execution_count": 4,
   "metadata": {},
   "outputs": [],
   "source": [
    "import pickle, json"
   ]
  },
  {
   "cell_type": "code",
   "execution_count": 5,
   "metadata": {},
   "outputs": [],
   "source": [
    "with open(f'{data_path}keras_data.pkl', 'rb') as f:\n",
    "    keras_data = pickle.load(f)"
   ]
  },
  {
   "cell_type": "markdown",
   "metadata": {},
   "source": [
    "#### Load deep learning model"
   ]
  },
  {
   "cell_type": "code",
   "execution_count": 6,
   "metadata": {},
   "outputs": [],
   "source": [
    "with open(f'{models_path}keras_architecture.json', 'r') as f:\n",
    "    architecture = json.load(f)"
   ]
  },
  {
   "cell_type": "code",
   "execution_count": 7,
   "metadata": {},
   "outputs": [
    {
     "name": "stderr",
     "output_type": "stream",
     "text": [
      "/home/quentin/anaconda3/lib/python3.6/site-packages/h5py/__init__.py:36: FutureWarning: Conversion of the second argument of issubdtype from `float` to `np.floating` is deprecated. In future, it will be treated as `np.float64 == np.dtype(float).type`.\n",
      "  from ._conv import register_converters as _register_converters\n",
      "Using TensorFlow backend.\n"
     ]
    }
   ],
   "source": [
    "from keras.models import model_from_json"
   ]
  },
  {
   "cell_type": "code",
   "execution_count": 8,
   "metadata": {},
   "outputs": [],
   "source": [
    "dl_clf = model_from_json(json.dumps(architecture))\n",
    "dl_clf.load_weights(f'{models_path}keras_early_stopping.h5')"
   ]
  },
  {
   "cell_type": "markdown",
   "metadata": {},
   "source": [
    "#### Load classical ML models"
   ]
  },
  {
   "cell_type": "code",
   "execution_count": 9,
   "metadata": {},
   "outputs": [],
   "source": [
    "from sklearn.externals import joblib"
   ]
  },
  {
   "cell_type": "code",
   "execution_count": 10,
   "metadata": {},
   "outputs": [],
   "source": [
    "logreg1 = joblib.load(f'{models_path}best_logreg1.pkl')\n",
    "logreg2 = joblib.load(f'{models_path}best_logreg2.pkl')\n",
    "boosting = joblib.load(f'{models_path}best_boosting.pkl')"
   ]
  },
  {
   "cell_type": "markdown",
   "metadata": {},
   "source": [
    "#### Make predictions on the test set"
   ]
  },
  {
   "cell_type": "code",
   "execution_count": 11,
   "metadata": {},
   "outputs": [],
   "source": [
    "from sklearn.metrics import f1_score"
   ]
  },
  {
   "cell_type": "code",
   "execution_count": 12,
   "metadata": {},
   "outputs": [],
   "source": [
    "y_hat_dl_clf = dl_clf.predict(keras_data['test']).argmax(axis=1)\n",
    "y_hat_logreg1 = logreg1.predict(X_test)\n",
    "y_hat_logreg2 = logreg2.predict(X_test)\n",
    "y_hat_boosting = boosting.predict(X_test)"
   ]
  },
  {
   "cell_type": "code",
   "execution_count": 13,
   "metadata": {},
   "outputs": [],
   "source": [
    "f1_score_dl = f1_score(y_test, y_hat_dl_clf, average='macro')\n",
    "f1_score_lr1 = f1_score(y_test, y_hat_logreg1, average='macro')\n",
    "f1_score_lr2 = f1_score(y_test, y_hat_logreg2, average='macro')\n",
    "f1_score_boosting = f1_score(y_test, y_hat_boosting, average='macro')"
   ]
  },
  {
   "cell_type": "markdown",
   "metadata": {},
   "source": [
    "#### Compare performances between models"
   ]
  },
  {
   "cell_type": "code",
   "execution_count": 14,
   "metadata": {},
   "outputs": [],
   "source": [
    "scores = pd.DataFrame({'f1 score (macro)': [f1_score_dl, f1_score_lr1, f1_score_lr2, f1_score_boosting], \n",
    "                       'model': ['deep learning', 'logreg f1-4', 'logreg f1-5', 'boosting']})\n",
    "scores['model'] = scores.model.astype('category')"
   ]
  },
  {
   "cell_type": "code",
   "execution_count": 15,
   "metadata": {},
   "outputs": [],
   "source": [
    "import matplotlib.pyplot as plt\n",
    "import seaborn as sns"
   ]
  },
  {
   "cell_type": "code",
   "execution_count": 16,
   "metadata": {},
   "outputs": [],
   "source": [
    "plt.style.use('seaborn-dark')\n",
    "phq_palette = sns.color_palette(['#df477e', '#67bea3', '#5d8bc6', '#f4b543', '#e87d52', '#757570'])"
   ]
  },
  {
   "cell_type": "code",
   "execution_count": 17,
   "metadata": {},
   "outputs": [
    {
     "data": {
      "image/png": "[encoded data removed]",
      "text/plain": [
       "<Figure size 432x288 with 1 Axes>"
      ]
     },
     "metadata": {},
     "output_type": "display_data"
    }
   ],
   "source": [
    "g = sns.barplot(x='model', y='f1 score (macro)', data=scores, palette=phq_palette,\n",
    "                order=scores.sort_values('f1 score (macro)').model.tolist())\n",
    "g.set_ylabel('f1 score (macro)', fontsize=14, color='black')    \n",
    "g.set_xlabel('', fontsize=14, color='black')\n",
    "g.tick_params(color='black', labelsize=14, width=0)\n",
    "g.grid(b=True, which='major')"
   ]
  },
  {
   "cell_type": "code",
   "execution_count": 18,
   "metadata": {},
   "outputs": [
    {
     "data": {
      "text/html": [
       "<div>\n",
       "<style scoped>\n",
       "    .dataframe tbody tr th:only-of-type {\n",
       "        vertical-align: middle;\n",
       "    }\n",
       "\n",
       "    .dataframe tbody tr th {\n",
       "        vertical-align: top;\n",
       "    }\n",
       "\n",
       "    .dataframe thead th {\n",
       "        text-align: right;\n",
       "    }\n",
       "</style>\n",
       "<table border=\"1\" class=\"dataframe\">\n",
       "  <thead>\n",
       "    <tr style=\"text-align: right;\">\n",
       "      <th></th>\n",
       "      <th>f1 score (macro)</th>\n",
       "      <th>model</th>\n",
       "    </tr>\n",
       "  </thead>\n",
       "  <tbody>\n",
       "    <tr>\n",
       "      <th>3</th>\n",
       "      <td>0.904815</td>\n",
       "      <td>boosting</td>\n",
       "    </tr>\n",
       "    <tr>\n",
       "      <th>1</th>\n",
       "      <td>0.930115</td>\n",
       "      <td>logreg f1-4</td>\n",
       "    </tr>\n",
       "    <tr>\n",
       "      <th>2</th>\n",
       "      <td>0.932797</td>\n",
       "      <td>logreg f1-5</td>\n",
       "    </tr>\n",
       "    <tr>\n",
       "      <th>0</th>\n",
       "      <td>0.937821</td>\n",
       "      <td>deep learning</td>\n",
       "    </tr>\n",
       "  </tbody>\n",
       "</table>\n",
       "</div>"
      ],
      "text/plain": [
       "   f1 score (macro)          model\n",
       "3          0.904815       boosting\n",
       "1          0.930115    logreg f1-4\n",
       "2          0.932797    logreg f1-5\n",
       "0          0.937821  deep learning"
      ]
     },
     "execution_count": 18,
     "metadata": {},
     "output_type": "execute_result"
    }
   ],
   "source": [
    "scores.sort_values('f1 score (macro)')"
   ]
  },
  {
   "cell_type": "markdown",
   "metadata": {},
   "source": [
    "#### Check detailed report for each model"
   ]
  },
  {
   "cell_type": "code",
   "execution_count": 19,
   "metadata": {},
   "outputs": [],
   "source": [
    "from sklearn.metrics import classification_report"
   ]
  },
  {
   "cell_type": "code",
   "execution_count": 20,
   "metadata": {},
   "outputs": [
    {
     "name": "stdout",
     "output_type": "stream",
     "text": [
      "              precision    recall  f1-score   support\n",
      "\n",
      "           0       0.92      0.90      0.91      3300\n",
      "           1       0.95      0.96      0.95      3299\n",
      "           2       0.94      0.95      0.95      3298\n",
      "\n",
      "   micro avg       0.94      0.94      0.94      9897\n",
      "   macro avg       0.94      0.94      0.94      9897\n",
      "weighted avg       0.94      0.94      0.94      9897\n",
      "\n"
     ]
    }
   ],
   "source": [
    "print(classification_report(y_test, y_hat_dl_clf))"
   ]
  },
  {
   "cell_type": "code",
   "execution_count": 21,
   "metadata": {},
   "outputs": [
    {
     "name": "stdout",
     "output_type": "stream",
     "text": [
      "              precision    recall  f1-score   support\n",
      "\n",
      "           0       0.88      0.93      0.91      3300\n",
      "           1       0.96      0.94      0.95      3299\n",
      "           2       0.95      0.92      0.94      3298\n",
      "\n",
      "   micro avg       0.93      0.93      0.93      9897\n",
      "   macro avg       0.93      0.93      0.93      9897\n",
      "weighted avg       0.93      0.93      0.93      9897\n",
      "\n"
     ]
    }
   ],
   "source": [
    "print(classification_report(y_test, y_hat_logreg1))"
   ]
  },
  {
   "cell_type": "code",
   "execution_count": 22,
   "metadata": {},
   "outputs": [
    {
     "name": "stdout",
     "output_type": "stream",
     "text": [
      "              precision    recall  f1-score   support\n",
      "\n",
      "           0       0.88      0.94      0.91      3300\n",
      "           1       0.97      0.94      0.95      3299\n",
      "           2       0.96      0.92      0.94      3298\n",
      "\n",
      "   micro avg       0.93      0.93      0.93      9897\n",
      "   macro avg       0.93      0.93      0.93      9897\n",
      "weighted avg       0.93      0.93      0.93      9897\n",
      "\n"
     ]
    }
   ],
   "source": [
    "print(classification_report(y_test, y_hat_logreg2))"
   ]
  },
  {
   "cell_type": "code",
   "execution_count": 23,
   "metadata": {},
   "outputs": [
    {
     "name": "stdout",
     "output_type": "stream",
     "text": [
      "              precision    recall  f1-score   support\n",
      "\n",
      "           0       0.82      0.93      0.87      3300\n",
      "           1       0.95      0.92      0.93      3299\n",
      "           2       0.96      0.87      0.91      3298\n",
      "\n",
      "   micro avg       0.90      0.90      0.90      9897\n",
      "   macro avg       0.91      0.90      0.90      9897\n",
      "weighted avg       0.91      0.90      0.90      9897\n",
      "\n"
     ]
    }
   ],
   "source": [
    "print(classification_report(y_test, y_hat_boosting))"
   ]
  }
 ],
 "metadata": {
  "kernelspec": {
   "display_name": "Python 3",
   "language": "python",
   "name": "python3"
  },
  "language_info": {
   "codemirror_mode": {
    "name": "ipython",
    "version": 3
   },
   "file_extension": ".py",
   "mimetype": "text/x-python",
   "name": "python",
   "nbconvert_exporter": "python",
   "pygments_lexer": "ipython3",
   "version": "3.6.8"
  }
 },
 "nbformat": 4,
 "nbformat_minor": 2
}
