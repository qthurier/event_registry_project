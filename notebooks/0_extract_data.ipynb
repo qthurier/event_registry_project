{
 "cells": [
  {
   "cell_type": "markdown",
   "metadata": {},
   "source": [
    "#### Start session with Event Registry API"
   ]
  },
  {
   "cell_type": "code",
   "execution_count": 1,
   "metadata": {},
   "outputs": [],
   "source": [
    "from eventregistry import *"
   ]
  },
  {
   "cell_type": "code",
   "execution_count": 2,
   "metadata": {},
   "outputs": [
    {
     "name": "stdout",
     "output_type": "stream",
     "text": [
      "using user provided API key for making requests\n",
      "Event Registry host: http://eventregistry.org\n",
      "Text analytics host: http://analytics.eventregistry.org\n"
     ]
    }
   ],
   "source": [
    "er = EventRegistry(apiKey='4b870e07-3dd9-49bd-aa0b-bac502c384bb')"
   ]
  },
  {
   "cell_type": "markdown",
   "metadata": {},
   "source": [
    "#### Specify the data range for the queries"
   ]
  },
  {
   "cell_type": "code",
   "execution_count": 3,
   "metadata": {},
   "outputs": [],
   "source": [
    "import datetime"
   ]
  },
  {
   "cell_type": "code",
   "execution_count": 4,
   "metadata": {},
   "outputs": [],
   "source": [
    "end_date = datetime.date(2019, 3, 9)\n",
    "start_date = end_date - datetime.timedelta(days=30)"
   ]
  },
  {
   "cell_type": "markdown",
   "metadata": {},
   "source": [
    "#### Specify the informations required for each article"
   ]
  },
  {
   "cell_type": "code",
   "execution_count": 5,
   "metadata": {},
   "outputs": [],
   "source": [
    "output = ArticleInfoFlags(bodyLen=-1,\n",
    "                          basicInfo=True,\n",
    "                          title=True,\n",
    "                          body=True,\n",
    "                          location=True,\n",
    "                          url=False,\n",
    "                          eventUri=False,\n",
    "                          authors=False,\n",
    "                          concepts=False,\n",
    "                          categories=True,\n",
    "                          links=False,\n",
    "                          videos=False,\n",
    "                          image=False,\n",
    "                          sentiment=False,\n",
    "                          dates=False,\n",
    "                          extractedDates=False,\n",
    "                          duplicateList=False,\n",
    "                          originalArticle=False,\n",
    "                          storyUri=False)"
   ]
  },
  {
   "cell_type": "markdown",
   "metadata": {},
   "source": [
    "#### Specify the queries to run"
   ]
  },
  {
   "cell_type": "code",
   "execution_count": 6,
   "metadata": {},
   "outputs": [],
   "source": [
    "q_sports = QueryArticlesIter(dateStart=start_date, \n",
    "                             dateEnd=end_date,\n",
    "                             conceptUri=er.getConceptUri('sports'),\n",
    "                             categoryUri=er.getCategoryUri('sports'),\n",
    "                             lang='eng',\n",
    "                             isDuplicateFilter='skipDuplicates')"
   ]
  },
  {
   "cell_type": "code",
   "execution_count": 7,
   "metadata": {},
   "outputs": [],
   "source": [
    "q_politics = QueryArticlesIter(dateStart=start_date, \n",
    "                               dateEnd=end_date,\n",
    "                               conceptUri=er.getConceptUri('politics'),\n",
    "                               categoryUri=er.getCategoryUri('politics'),\n",
    "                               lang='eng',\n",
    "                               isDuplicateFilter='skipDuplicates')"
   ]
  },
  {
   "cell_type": "code",
   "execution_count": 8,
   "metadata": {},
   "outputs": [],
   "source": [
    "q_other = QueryArticlesIter(dateStart=start_date, \n",
    "                            dateEnd=end_date,\n",
    "                            ignoreConceptUri=QueryItems.OR([er.getConceptUri('politics'), er.getConceptUri('sports')]),\n",
    "                            ignoreCategoryUri=QueryItems.OR([er.getCategoryUri('politics'), er.getCategoryUri('sports')]),\n",
    "                            lang='eng',\n",
    "                            isDuplicateFilter='skipDuplicates')"
   ]
  },
  {
   "cell_type": "markdown",
   "metadata": {},
   "source": [
    "#### Turn the query results into a pandas dataframes"
   ]
  },
  {
   "cell_type": "code",
   "execution_count": 9,
   "metadata": {},
   "outputs": [],
   "source": [
    "import utils"
   ]
  },
  {
   "cell_type": "code",
   "execution_count": 10,
   "metadata": {},
   "outputs": [],
   "source": [
    "import importlib"
   ]
  },
  {
   "cell_type": "code",
   "execution_count": 11,
   "metadata": {},
   "outputs": [
    {
     "data": {
      "text/plain": [
       "<module 'utils' from '/Users/qthurier/Desktop/perso/phq_project/notebooks/utils.py'>"
      ]
     },
     "execution_count": 11,
     "metadata": {},
     "output_type": "execute_result"
    }
   ],
   "source": [
    "importlib.reload(utils)"
   ]
  },
  {
   "cell_type": "code",
   "execution_count": 15,
   "metadata": {},
   "outputs": [
    {
     "name": "stdout",
     "output_type": "stream",
     "text": [
      "CPU times: user 1.03 s, sys: 105 ms, total: 1.14 s\n",
      "Wall time: 1min 41s\n"
     ]
    }
   ],
   "source": [
    "%time sports_article_df = utils.build_df_from_query(q_sports, er, 10000, ReturnInfo(articleInfo=output))"
   ]
  },
  {
   "cell_type": "code",
   "execution_count": 16,
   "metadata": {},
   "outputs": [
    {
     "name": "stdout",
     "output_type": "stream",
     "text": [
      "CPU times: user 1.25 s, sys: 117 ms, total: 1.36 s\n",
      "Wall time: 4min 13s\n"
     ]
    }
   ],
   "source": [
    "%time politics_article_df = utils.build_df_from_query(q_politics, er, 10000, ReturnInfo(articleInfo=output))"
   ]
  },
  {
   "cell_type": "code",
   "execution_count": 12,
   "metadata": {},
   "outputs": [
    {
     "name": "stdout",
     "output_type": "stream",
     "text": [
      "CPU times: user 861 ms, sys: 83.8 ms, total: 945 ms\n",
      "Wall time: 12min 42s\n"
     ]
    }
   ],
   "source": [
    "%time other_article_df = utils.build_df_from_query(q_other, er, 10000, ReturnInfo(articleInfo=output))"
   ]
  },
  {
   "cell_type": "markdown",
   "metadata": {},
   "source": [
    "#### Save dataframes to csv files"
   ]
  },
  {
   "cell_type": "code",
   "execution_count": 13,
   "metadata": {},
   "outputs": [],
   "source": [
    "sports_article_df.to_csv('../data/sports_10k.csv', index=False)\n",
    "politics_article_df.to_csv('../data/politics_10k.csv', index=False)\n",
    "other_article_df.to_csv('../data/other_10k.csv', index=False)"
   ]
  }
 ],
 "metadata": {
  "kernelspec": {
   "display_name": "Python 3",
   "language": "python",
   "name": "python3"
  },
  "language_info": {
   "codemirror_mode": {
    "name": "ipython",
    "version": 3
   },
   "file_extension": ".py",
   "mimetype": "text/x-python",
   "name": "python",
   "nbconvert_exporter": "python",
   "pygments_lexer": "ipython3",
   "version": "3.6.8"
  }
 },
 "nbformat": 4,
 "nbformat_minor": 2
}
