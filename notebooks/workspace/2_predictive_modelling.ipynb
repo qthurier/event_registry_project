{
 "cells": [
  {
   "cell_type": "code",
   "execution_count": 1,
   "metadata": {},
   "outputs": [],
   "source": [
    "import pandas as pd"
   ]
  },
  {
   "cell_type": "code",
   "execution_count": 2,
   "metadata": {},
   "outputs": [],
   "source": [
    "from ast import literal_eval"
   ]
  },
  {
   "cell_type": "code",
   "execution_count": 3,
   "metadata": {},
   "outputs": [],
   "source": [
    "sports_df = pd.read_csv('../data/sports_10k.csv', converters={'event_list': literal_eval, 'person_list': literal_eval}).assign(y=lambda x: 2)\n",
    "politics_df = pd.read_csv('../data/politics_10k.csv', converters={'event_list': literal_eval, 'person_list': literal_eval}).assign(y=lambda x: 1)\n",
    "other_df = pd.read_csv('../data/other_10k.csv', converters={'event_list': literal_eval, 'person_list': literal_eval}).assign(y=lambda x: 0)"
   ]
  },
  {
   "cell_type": "code",
   "execution_count": 4,
   "metadata": {},
   "outputs": [],
   "source": [
    "intersection = sports_df.merge(politics_df, on='id')[['id']].assign(intersection=lambda x: 1)"
   ]
  },
  {
   "cell_type": "code",
   "execution_count": 5,
   "metadata": {},
   "outputs": [],
   "source": [
    "df = pd.concat([sports_df.merge(intersection, how='left').query('intersection != intersection').drop('intersection', axis=1),\n",
    "                politics_df.merge(intersection, how='left').query('intersection != intersection').drop('intersection', axis=1),\n",
    "                other_df],\n",
    "               axis=0)[['title', 'body', 'source', 'event_list', 'person_list', 'y']].assign(dummy=lambda x: 1)"
   ]
  },
  {
   "cell_type": "code",
   "execution_count": 6,
   "metadata": {},
   "outputs": [],
   "source": [
    "from sklearn.model_selection import train_test_split"
   ]
  },
  {
   "cell_type": "code",
   "execution_count": 7,
   "metadata": {},
   "outputs": [],
   "source": [
    "df.body = df.body.map(lambda x: x[:100])"
   ]
  },
  {
   "cell_type": "code",
   "execution_count": 8,
   "metadata": {},
   "outputs": [],
   "source": [
    "X_train, X_test, y_train, y_test = train_test_split(df.drop('y', axis=1), \n",
    "                                                    df.y, \n",
    "                                                    test_size=0.33, \n",
    "                                                    random_state=42, \n",
    "                                                    shuffle=True, stratify=df.y)"
   ]
  },
  {
   "cell_type": "code",
   "execution_count": 9,
   "metadata": {},
   "outputs": [],
   "source": [
    "from sklearn.pipeline import Pipeline, FeatureUnion, make_pipeline\n",
    "from sklearn.preprocessing import OneHotEncoder\n",
    "from sklearn.feature_selection import VarianceThreshold"
   ]
  },
  {
   "cell_type": "code",
   "execution_count": 10,
   "metadata": {},
   "outputs": [],
   "source": [
    "from sklearn.feature_extraction.text import TfidfVectorizer"
   ]
  },
  {
   "cell_type": "code",
   "execution_count": 11,
   "metadata": {},
   "outputs": [],
   "source": [
    "import utils_sklearn as utils"
   ]
  },
  {
   "cell_type": "code",
   "execution_count": 12,
   "metadata": {},
   "outputs": [],
   "source": [
    "feature_pipelines = {'body': make_pipeline(utils.ColumnExtractor('body'), TfidfVectorizer(max_df=0.75, min_df=10)),\n",
    "                     'title': make_pipeline(utils.ColumnExtractor('title'), TfidfVectorizer(max_df=0.75, min_df=10)),\n",
    "                     'source': make_pipeline(utils.ColumnExtractor(['source', 'dummy']), OneHotEncoder(handle_unknown='ignore')),\n",
    "                     'person': make_pipeline(utils.ColumnExtractor('person_list'), utils.MostCommonEntity()),\n",
    "                     'event': make_pipeline(utils.ColumnExtractor('event_list'), utils.MostCommonEntity())}"
   ]
  },
  {
   "cell_type": "code",
   "execution_count": 13,
   "metadata": {},
   "outputs": [],
   "source": [
    "def make_features(feature_list):\n",
    "    return FeatureUnion([(feat, feature_pipelines[feat]) for feat in feature_list]) "
   ]
  },
  {
   "cell_type": "code",
   "execution_count": 14,
   "metadata": {},
   "outputs": [],
   "source": [
    "from sklearn.linear_model import LogisticRegression"
   ]
  },
  {
   "cell_type": "code",
   "execution_count": 15,
   "metadata": {},
   "outputs": [],
   "source": [
    "from sklearn.model_selection import cross_val_score"
   ]
  },
  {
   "cell_type": "code",
   "execution_count": 16,
   "metadata": {},
   "outputs": [],
   "source": [
    "import numpy as np"
   ]
  },
  {
   "cell_type": "code",
   "execution_count": 18,
   "metadata": {},
   "outputs": [
    {
     "name": "stdout",
     "output_type": "stream",
     "text": [
      "f1 macro score is 0.79 +- 0.002 when using ['body'] (~ 3950 individual features)\n",
      "f1 macro score is 0.86 +- 0.003 when using ['body', 'title'] (~ 7211 individual features)\n",
      "f1 macro score is 0.89 +- 0.003 when using ['body', 'title', 'source'] (~ 10187 individual features)\n",
      "f1 macro score is 0.90 +- 0.002 when using ['body', 'title', 'source', 'person'] (~ 10687 individual features)\n",
      "f1 macro score is 0.90 +- 0.003 when using ['body', 'title', 'source', 'person', 'event'] (~ 11187 individual features)\n",
      "CPU times: user 5min 18s, sys: 24.4 s, total: 5min 42s\n",
      "Wall time: 1min 24s\n"
     ]
    }
   ],
   "source": [
    "%%time\n",
    "feature_list = ['body', 'title', 'source', 'person', 'event']\n",
    "for i in range(1, len(feature_list) + 1):\n",
    "    n_col = make_features(feature_list[:i]).fit_transform(X_train).shape[1]\n",
    "    model = Pipeline([('feature', make_features(feature_list[:i])),\n",
    "                      ('filter', VarianceThreshold()),\n",
    "                      ('clf', LogisticRegression(solver='lbfgs', multi_class='multinomial', max_iter=1E3))])\n",
    "    scores = cross_val_score(model, X_train, y_train, cv=5, scoring='f1_macro')\n",
    "    print(f'f1 macro score is {np.mean(scores):0.2f} +- {np.std(scores):0.3f} when using {feature_list[:i]} (~ {n_col} individual features)')"
   ]
  },
  {
   "cell_type": "code",
   "execution_count": 18,
   "metadata": {},
   "outputs": [],
   "source": [
    "from lightgbm import LGBMClassifier"
   ]
  },
  {
   "cell_type": "code",
   "execution_count": 37,
   "metadata": {},
   "outputs": [],
   "source": [
    "model = Pipeline([('feature', make_features(['body', 'title', 'source', 'person'])),\n",
    "                  ('filter', VarianceThreshold()),\n",
    "                  ('clf', LGBMClassifier(objective='multiclass', random_state=42))])"
   ]
  },
  {
   "cell_type": "code",
   "execution_count": 39,
   "metadata": {},
   "outputs": [],
   "source": [
    "from sklearn.model_selection import GridSearchCV"
   ]
  },
  {
   "cell_type": "code",
   "execution_count": 40,
   "metadata": {},
   "outputs": [],
   "source": [
    "space = {\n",
    "    'clf__n_estimators': [100, 200, 300],\n",
    "    'clf__learning_rate': [0.1, 0.05, 0.01],\n",
    "    'clf__subsample': [1.0, 0.9, 0.8]\n",
    "    }\n",
    "\n",
    "grid = GridSearchCV(estimator=model, param_grid=space, cv=5, scoring='f1_macro')"
   ]
  },
  {
   "cell_type": "code",
   "execution_count": 41,
   "metadata": {},
   "outputs": [
    {
     "name": "stdout",
     "output_type": "stream",
     "text": [
      "CPU times: user 3h 58min 21s, sys: 54.3 s, total: 3h 59min 15s\n",
      "Wall time: 45min 29s\n"
     ]
    }
   ],
   "source": [
    "%time search = grid.fit(X_train, y_train)"
   ]
  },
  {
   "cell_type": "code",
   "execution_count": 51,
   "metadata": {},
   "outputs": [
    {
     "name": "stdout",
     "output_type": "stream",
     "text": [
      "best f1 macro score is 0.88 +- 0.000 [{'clf__learning_rate': 0.1, 'clf__n_estimators': 300, 'clf__subsample': 1.0}]\n"
     ]
    }
   ],
   "source": [
    "print(f'best f1 macro score is {np.mean(grid.best_score_):0.2f} +- {np.std(grid.best_score_):0.3f} [{grid.best_params_}]')"
   ]
  },
  {
   "cell_type": "code",
   "execution_count": null,
   "metadata": {},
   "outputs": [],
   "source": []
  }
 ],
 "metadata": {
  "kernelspec": {
   "display_name": "Python 3",
   "language": "python",
   "name": "python3"
  },
  "language_info": {
   "codemirror_mode": {
    "name": "ipython",
    "version": 3
   },
   "file_extension": ".py",
   "mimetype": "text/x-python",
   "name": "python",
   "nbconvert_exporter": "python",
   "pygments_lexer": "ipython3",
   "version": "3.6.8"
  }
 },
 "nbformat": 4,
 "nbformat_minor": 2
}
