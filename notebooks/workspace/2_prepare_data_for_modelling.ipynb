{
 "cells": [
  {
   "cell_type": "markdown",
   "metadata": {},
   "source": [
    "#### Notebook purpose\n",
    "This notebook aims to split training and test datasets"
   ]
  },
  {
   "cell_type": "markdown",
   "metadata": {},
   "source": [
    "#### Read and prepare data"
   ]
  },
  {
   "cell_type": "code",
   "execution_count": 1,
   "metadata": {},
   "outputs": [],
   "source": [
    "import pandas as pd\n",
    "from ast import literal_eval"
   ]
  },
  {
   "cell_type": "code",
   "execution_count": 2,
   "metadata": {},
   "outputs": [],
   "source": [
    "data_path = '../../data/'\n",
    "models_path = '../../models/'"
   ]
  },
  {
   "cell_type": "code",
   "execution_count": 3,
   "metadata": {},
   "outputs": [],
   "source": [
    "# add labels sports = 2, politics = 1, other = 0\n",
    "sports_df = pd.read_csv(f'{data_path}sports_10k.csv', converters={'event_list': literal_eval, 'person_list': literal_eval}).assign(y=lambda x: 2)\n",
    "politics_df = pd.read_csv(f'{data_path}politics_10k.csv', converters={'event_list': literal_eval, 'person_list': literal_eval}).assign(y=lambda x: 1)\n",
    "other_df = pd.read_csv(f'{data_path}other_10k.csv', converters={'event_list': literal_eval, 'person_list': literal_eval}).assign(y=lambda x: 0)"
   ]
  },
  {
   "cell_type": "code",
   "execution_count": 4,
   "metadata": {},
   "outputs": [],
   "source": [
    "# we'll use this lookup to filter articles that are from both caetories politics & sports (6 cases)\n",
    "intersection = sports_df.merge(politics_df, on='id')[['id']].assign(intersection=lambda x: 1) "
   ]
  },
  {
   "cell_type": "code",
   "execution_count": 5,
   "metadata": {},
   "outputs": [],
   "source": [
    "# concatenate the whole sample of articles\n",
    "df = pd.concat([sports_df.merge(intersection, how='left').query('intersection != intersection').drop('intersection', axis=1),\n",
    "                politics_df.merge(intersection, how='left').query('intersection != intersection').drop('intersection', axis=1),\n",
    "                other_df],\n",
    "               axis=0)[['title', 'body', 'source', 'event_list', 'person_list', 'y']].assign(dummy=lambda x: 1) # dummy variable"
   ]
  },
  {
   "cell_type": "code",
   "execution_count": 6,
   "metadata": {},
   "outputs": [],
   "source": [
    "# we keep only the first 250 characters of each article body and fill missing values (few titles and sources are missing)\n",
    "df.body = df.body.map(lambda x: x[:250])\n",
    "df = df.fillna('missing')"
   ]
  },
  {
   "cell_type": "markdown",
   "metadata": {},
   "source": [
    "#### Split training and test datasets and save results"
   ]
  },
  {
   "cell_type": "code",
   "execution_count": 7,
   "metadata": {},
   "outputs": [],
   "source": [
    "from sklearn.model_selection import train_test_split"
   ]
  },
  {
   "cell_type": "code",
   "execution_count": 8,
   "metadata": {},
   "outputs": [],
   "source": [
    "X_train, X_test, y_train, y_test = train_test_split(df.drop('y', axis=1), \n",
    "                                                    df[['y']], \n",
    "                                                    test_size=0.33, \n",
    "                                                    random_state=42, \n",
    "                                                    shuffle=True, stratify=df.y)"
   ]
  },
  {
   "cell_type": "code",
   "execution_count": 9,
   "metadata": {},
   "outputs": [],
   "source": [
    "X_train.to_csv(f'{data_path}X_train.csv', index=False)\n",
    "X_test.to_csv(f'{data_path}X_test.csv', index=False)\n",
    "y_train.to_csv(f'{data_path}y_train.csv', index=False)\n",
    "y_test.to_csv(f'{data_path}y_test.csv', index=False)"
   ]
  },
  {
   "cell_type": "code",
   "execution_count": null,
   "metadata": {},
   "outputs": [],
   "source": []
  }
 ],
 "metadata": {
  "kernelspec": {
   "display_name": "Python 3",
   "language": "python",
   "name": "python3"
  },
  "language_info": {
   "codemirror_mode": {
    "name": "ipython",
    "version": 3
   },
   "file_extension": ".py",
   "mimetype": "text/x-python",
   "name": "python",
   "nbconvert_exporter": "python",
   "pygments_lexer": "ipython3",
   "version": "3.6.8"
  }
 },
 "nbformat": 4,
 "nbformat_minor": 2
}
