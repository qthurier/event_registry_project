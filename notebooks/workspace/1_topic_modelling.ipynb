{
 "cells": [
  {
   "cell_type": "markdown",
   "metadata": {},
   "source": [
    "#### Notebook purpose\n",
    "This notebooks aims to summarize the sample of sports and politics articles collected on http://eventregistry.org into a finite number of main \"topics\" using the Latent Dirichlet Allocation (LDA) model. Due to time restrictions we didn't spend time fine-tuning neither the models nor the number of topics but this could have been done using likelihood or perplexity criteria."
   ]
  },
  {
   "cell_type": "markdown",
   "metadata": {},
   "source": [
    "#### Load data and set up parameters used in the rest of the notebook"
   ]
  },
  {
   "cell_type": "code",
   "execution_count": 211,
   "metadata": {},
   "outputs": [],
   "source": [
    "import phq_utils.utils_lda as utils"
   ]
  },
  {
   "cell_type": "code",
   "execution_count": 212,
   "metadata": {},
   "outputs": [],
   "source": [
    "import pandas as pd"
   ]
  },
  {
   "cell_type": "code",
   "execution_count": null,
   "metadata": {},
   "outputs": [],
   "source": [
    "data_path = '../../data/'\n",
    "modelspath = '../../models/'"
   ]
  },
  {
   "cell_type": "code",
   "execution_count": 213,
   "metadata": {},
   "outputs": [],
   "source": [
    "sports_df = pd.read_csv(f'{data_path}sports_10k.csv')\n",
    "politics_df = pd.read_csv(f'{data_path}politics_10k.csv')"
   ]
  },
  {
   "cell_type": "code",
   "execution_count": 214,
   "metadata": {},
   "outputs": [],
   "source": [
    "from gensim.corpora import Dictionary\n",
    "from gensim.corpora.mmcorpus import MmCorpus"
   ]
  },
  {
   "cell_type": "code",
   "execution_count": 215,
   "metadata": {},
   "outputs": [],
   "source": [
    "n_docs = 10000\n",
    "n_topics = 20\n",
    "max_freq = 0.4\n",
    "min_wordcount = int(0.01 * n_docs)"
   ]
  },
  {
   "cell_type": "markdown",
   "metadata": {},
   "source": [
    "#### Build dictionary and bag of words for sports articles contents"
   ]
  },
  {
   "cell_type": "code",
   "execution_count": 216,
   "metadata": {},
   "outputs": [
    {
     "name": "stdout",
     "output_type": "stream",
     "text": [
      "CPU times: user 2min 42s, sys: 259 ms, total: 2min 42s\n",
      "Wall time: 2min 42s\n"
     ]
    }
   ],
   "source": [
    "%time docs = [utils.process_text(row['body']) for index, row in sports_df.iterrows()]"
   ]
  },
  {
   "cell_type": "code",
   "execution_count": 217,
   "metadata": {},
   "outputs": [],
   "source": [
    "dictionary = Dictionary(docs)\n",
    "dictionary.filter_extremes(no_below=min_wordcount, no_above=max_freq)\n",
    "dictionary.save(f'{data_path}sports_body.dict')"
   ]
  },
  {
   "cell_type": "code",
   "execution_count": 218,
   "metadata": {},
   "outputs": [],
   "source": [
    "bows = [dictionary.doc2bow(doc) for doc in docs]\n",
    "MmCorpus.serialize(f'{data_path}sports_body.bow', bows)"
   ]
  },
  {
   "cell_type": "markdown",
   "metadata": {},
   "source": [
    "#### Build dictionary and bag of words for politics articles contents"
   ]
  },
  {
   "cell_type": "code",
   "execution_count": 219,
   "metadata": {},
   "outputs": [
    {
     "name": "stdout",
     "output_type": "stream",
     "text": [
      "CPU times: user 3min 55s, sys: 327 ms, total: 3min 55s\n",
      "Wall time: 3min 55s\n"
     ]
    }
   ],
   "source": [
    "%time docs = [utils.process_text(row['body']) for index, row in politics_df.iterrows()]"
   ]
  },
  {
   "cell_type": "code",
   "execution_count": 220,
   "metadata": {},
   "outputs": [],
   "source": [
    "dictionary = Dictionary(docs)\n",
    "dictionary.filter_extremes(no_below=min_wordcount, no_above=max_freq)\n",
    "dictionary.save(f'{data_path}politics_body.dict')"
   ]
  },
  {
   "cell_type": "code",
   "execution_count": 221,
   "metadata": {},
   "outputs": [],
   "source": [
    "bows = [dictionary.doc2bow(doc) for doc in docs]\n",
    "MmCorpus.serialize(f'{data_path}politics_body.bow', bows)"
   ]
  },
  {
   "cell_type": "markdown",
   "metadata": {},
   "source": [
    "#### Build dictionary and bag of words for sports articles titles"
   ]
  },
  {
   "cell_type": "code",
   "execution_count": 229,
   "metadata": {},
   "outputs": [
    {
     "name": "stdout",
     "output_type": "stream",
     "text": [
      "CPU times: user 3.68 s, sys: 24.2 ms, total: 3.71 s\n",
      "Wall time: 3.71 s\n"
     ]
    }
   ],
   "source": [
    "%time docs = [utils.process_text(row['title'] if not pd.isna(row['title']) else '') for index, row in sports_df.iterrows()]"
   ]
  },
  {
   "cell_type": "code",
   "execution_count": 230,
   "metadata": {},
   "outputs": [],
   "source": [
    "dictionary = Dictionary(docs)\n",
    "dictionary.filter_extremes(no_below=min_wordcount, no_above=max_freq)\n",
    "dictionary.save(f'{data_path}sports_title.dict')"
   ]
  },
  {
   "cell_type": "code",
   "execution_count": 231,
   "metadata": {},
   "outputs": [],
   "source": [
    "bows = [dictionary.doc2bow(doc) for doc in docs]\n",
    "MmCorpus.serialize(f'{data_path}sports_title.bow', bows)"
   ]
  },
  {
   "cell_type": "markdown",
   "metadata": {},
   "source": [
    "#### Build dictionary and bag of words for politics articles titles"
   ]
  },
  {
   "cell_type": "code",
   "execution_count": 232,
   "metadata": {},
   "outputs": [
    {
     "name": "stdout",
     "output_type": "stream",
     "text": [
      "CPU times: user 3.85 s, sys: 6.24 ms, total: 3.85 s\n",
      "Wall time: 3.85 s\n"
     ]
    }
   ],
   "source": [
    "%time docs = [utils.process_text(row['title'] if not pd.isna(row['title']) else '') for index, row in politics_df.iterrows()]"
   ]
  },
  {
   "cell_type": "code",
   "execution_count": 233,
   "metadata": {},
   "outputs": [],
   "source": [
    "dictionary = Dictionary(docs)\n",
    "dictionary.filter_extremes(no_below=min_wordcount, no_above=max_freq)\n",
    "dictionary.save(f'{data_path}politics_title.dict')"
   ]
  },
  {
   "cell_type": "code",
   "execution_count": 234,
   "metadata": {},
   "outputs": [],
   "source": [
    "bows = [dictionary.doc2bow(doc) for doc in docs]\n",
    "MmCorpus.serialize(f'{data_path}politics_title.bow', bows)"
   ]
  },
  {
   "cell_type": "markdown",
   "metadata": {},
   "source": [
    "#### LDA modeling for politics and sports articles on body and titles"
   ]
  },
  {
   "cell_type": "code",
   "execution_count": 206,
   "metadata": {},
   "outputs": [],
   "source": [
    "from gensim.models import ldamodel"
   ]
  },
  {
   "cell_type": "code",
   "execution_count": 235,
   "metadata": {},
   "outputs": [
    {
     "name": "stdout",
     "output_type": "stream",
     "text": [
      "CPU times: user 1min 41s, sys: 16 s, total: 1min 57s\n",
      "Wall time: 23.6 s\n"
     ]
    }
   ],
   "source": [
    "%%time\n",
    "for category in ['sports', 'politics']:\n",
    "    for item in ['body', 'title']:\n",
    "        dictionary = Dictionary.load(f'{data_path}{category}_{item}.dict')\n",
    "        corpus = MmCorpus(f'{data_path}{category}_{item}.bow')\n",
    "        model = ldamodel.LdaModel(corpus=corpus, id2word=dictionary, num_topics=n_topics, random_state=42)\n",
    "        model.save(f'{models_path}{category}_{item}_{n_docs}_docs_{n_topics}_topics.model')"
   ]
  },
  {
   "cell_type": "markdown",
   "metadata": {},
   "source": [
    "#### Look at the 10 most important tokens per topic to get an idea of what it represents"
   ]
  },
  {
   "cell_type": "code",
   "execution_count": 236,
   "metadata": {},
   "outputs": [],
   "source": [
    "import gensim"
   ]
  },
  {
   "cell_type": "code",
   "execution_count": 258,
   "metadata": {},
   "outputs": [
    {
     "name": "stdout",
     "output_type": "stream",
     "text": [
      "Topics for sports articles body:\n",
      "topic 0 ~ (title, stpierre, ufc, champion, mma, championship, state, fight, athlete, usa)\n",
      "topic 1 ~ (trail, bike, brand, area, photo, running, event, mountain, health, park)\n",
      "topic 2 ~ (event, golf, club, olympic, tour, championship, people, best, olympics, surfing)\n",
      "topic 3 ~ (player, football, coach, play, basketball, baseball, even, thing, really, good)\n",
      "topic 4 ~ (league, player, season, club, goal, side, champion, fan, win, point)\n",
      "topic 5 ~ (second, cup, win, round, three, irish, race, player, winner, got)\n",
      "topic 6 ~ (car, speed, engine, fury, system, model, power, drive, feature, driving)\n",
      "topic 7 ~ (cricket, rugby, player, cup, india, england, play, icc, good, season)\n",
      "topic 8 ~ (tennis, player, know, win, say, think, career, even, going, still)\n",
      "topic 9 ~ (woman, hockey, girl, cricket, player, state, school, coach, national, men)\n",
      "topic 10 ~ (live, ireland, watch, match, bbc, england, sky, wale, six, saturday)\n",
      "topic 11 ~ (rugby, india, player, cup, country, indian, international, competition, nation, pakistan)\n",
      "topic 12 ~ (woman, athlete, iaaf, semenya, level, testosterone, female, rule, south, ca)\n",
      "topic 13 ~ (gold, athlete, medal, olympic, event, olympics, woman, championship, people, cycling)\n",
      "topic 14 ~ (fight, boxing, champion, ufc, fighter, title, heavyweight, going, win, want)\n",
      "topic 15 ~ (athlete, investigation, player, statement, police, coach, report, told, committee, horse)\n",
      "topic 16 ~ (race, racing, driver, daytona, nascar, car, series, win, track, season)\n",
      "topic 17 ~ (school, state, coach, high, season, wrestling, college, student, really, tournament)\n",
      "topic 18 ~ (going, say, think, really, people, thing, know, good, want, lot)\n",
      "topic 19 ~ (club, city, player, league, football, arsenal, united, season, premier, chelsea)\n",
      "\n",
      "Topics for sports articles title:\n",
      "topic 0 ~ (star, return, season, state, sport, athlete, championship, new, set, get)\n",
      "topic 1 ~ (sport, best, united, take, man, fan, time, live, get, team)\n",
      "topic 2 ~ (olympics, cricket, talk, pro, man, city, game, league, new, plan)\n",
      "topic 3 ~ (player, racing, need, female, new, tennis, world, one, sport, cup)\n",
      "topic 4 ~ (live, stream, channel, time, news, chelsea, sport, league, team, man)\n",
      "topic 5 ~ (team, news, win, title, wrestling, one, time, channel, state, live)\n",
      "topic 6 ~ (deal, city, get, award, new, sport, win, time, news, rule)\n",
      "topic 7 ~ (olympic, want, could, sport, new, get, fight, win, semenya, team)\n",
      "topic 8 ~ (cup, india, time, world, ufc, girl, first, sport, state, wrestling)\n",
      "topic 9 ~ (woman, set, sport, say, day, new, football, take, need, award)\n",
      "topic 10 ~ (fight, rule, ufc, female, title, athlete, semenya, live, olympic, watch)\n",
      "topic 11 ~ (game, athlete, race, take, news, one, coach, time, city, live)\n",
      "topic 12 ~ (championship, boxing, sport, new, one, news, set, fan, need, world)\n",
      "topic 13 ~ (new, coach, hockey, fan, nascar, day, sport, team, athlete, back)\n",
      "topic 14 ~ (make, sport, game, world, championship, win, football, plan, ufc, cup)\n",
      "topic 15 ~ (league, watch, live, champion, stream, chelsea, online, preview, time, sport)\n",
      "topic 16 ~ (football, first, rugby, preview, player, league, news, set, sport, game)\n",
      "topic 17 ~ (world, semenya, year, iol, caster, call, rugby, championship, champion, take)\n",
      "topic 18 ~ (top, club, show, big, sport, new, news, win, year, award)\n",
      "topic 19 ~ (say, back, tennis, plan, win, year, star, fan, set, man)\n",
      "\n",
      "Topics for politics articles body:\n",
      "topic 0 ~ (trump, republican, democrat, house, american, congress, bill, white, emergency, senate)\n",
      "topic 1 ~ (apc, pdp, congress, candidate, governor, attack, buhari, chief, modi, presidential)\n",
      "topic 2 ~ (pakistan, india, war, force, attack, indian, modi, china, military, security)\n",
      "topic 3 ~ (sander, trump, candidate, democrat, american, republican, presidential, voter, percent, campaign)\n",
      "topic 4 ~ (israel, jewish, israeli, netanyahu, jew, omar, antisemitism, palestinian, american, antisemitic)\n",
      "topic 5 ~ (brexit, ireland, voter, british, deal, labour, european, britain, irish, northern)\n",
      "topic 6 ~ (thai, military, king, prime, royal, thailand, princess, candidate, coup, chart)\n",
      "topic 7 ~ (campaign, sander, money, family, bill, senator, democrat, donor, law, house)\n",
      "topic 8 ~ (campaign, candidate, harris, trump, woman, voter, think, ballot, run, race)\n",
      "topic 9 ~ (labour, mp, brexit, group, corbyn, conservative, independent, tory, parliament, jeremy)\n",
      "topic 10 ~ (policy, world, system, think, change, tax, economic, much, united, social)\n",
      "topic 11 ~ (school, city, governor, office, gun, trump, house, law, news, story)\n",
      "topic 12 ~ (work, life, school, family, know, thing, police, see, council, church)\n",
      "topic 13 ~ (russia, iran, russian, european, group, military, world, international, force, prime)\n",
      "topic 14 ~ (prime, trudeau, wilsonraybould, liberal, snclavalin, canadian, canada, justice, cabinet, general)\n",
      "topic 15 ~ (seat, bjp, student, alliance, prime, congress, chief, parliament, poll, sabha)\n",
      "topic 16 ~ (court, police, law, case, kashmir, medium, kashmiri, india, policy, constitution)\n",
      "topic 17 ~ (congress, woman, gandhi, bjp, modi, prime, pradesh, priyanka, india, sabha)\n",
      "topic 18 ~ (china, king, chinese, trump, american, royal, candidate, law, woman, thai)\n",
      "topic 19 ~ (nigeria, nigerian, buhari, must, candidate, governor, presidential, youth, politician, igbo)\n",
      "\n",
      "Topics for politics articles title:\n",
      "topic 0 ~ (call, gandhi, priyanka, congress, opinion, politics, woman, democrat, leader, bjp)\n",
      "topic 1 ~ (sander, bernie, presidential, may, former, campaign, president, race, run, analysis)\n",
      "topic 2 ~ (trump, labour, party, quit, mp, state, america, brexit, president, new)\n",
      "topic 3 ~ (politics, woman, newspaper, first, election, trump, minister, independent, bjp, nigeria)\n",
      "topic 4 ~ (opinion, right, antisemitism, want, must, american, labour, quit, brexit, trump)\n",
      "topic 5 ~ (election, house, change, first, thai, run, princess, news, nigeria, leader)\n",
      "topic 6 ~ (time, india, congress, modi, bjp, party, woman, election, first, newspaper)\n",
      "topic 7 ~ (new, poll, could, deal, voter, party, politics, woman, priyanka, labour)\n",
      "topic 8 ~ (leader, candidate, apc, nigeria, first, election, news, antisemitism, woman, take)\n",
      "topic 9 ~ (power, israel, opposition, president, run, omar, buhari, ilhan, state, politics)\n",
      "topic 10 ~ (group, brexit, independent, mp, join, party, new, may, labour, quit)\n",
      "topic 11 ~ (news, politician, party, nigeria, newspaper, thai, say, time, india, president)\n",
      "topic 12 ~ (nigeria, nation, talk, buhari, independent, election, join, poll, state, democrat)\n",
      "topic 13 ~ (vote, sun, nigeria, buhari, apc, election, politics, poll, new, campaign)\n",
      "topic 14 ~ (minister, government, day, back, race, president, woman, thai, party, bjp)\n",
      "topic 15 ~ (political, party, president, thai, princess, modi, poll, bid, election, time)\n",
      "topic 16 ~ (democrat, need, analysis, politics, minister, run, former, newspaper, time, new)\n",
      "topic 17 ~ (get, take, people, make, politics, party, time, opinion, thai, trump)\n",
      "topic 18 ~ (say, attack, modi, bid, opposition, congress, deal, president, need, people)\n",
      "topic 19 ~ (bjp, national, running, omar, ilhan, congress, say, political, modi, politics)\n",
      "\n"
     ]
    }
   ],
   "source": [
    "topic_tokens_top3 = {}\n",
    "for category in ['sports', 'politics']:\n",
    "    for item in ['body', 'title']:\n",
    "        dictionary = Dictionary.load(f'{data_path}{category}_{item}.dict')\n",
    "        model = gensim.models.LdaModel.load(f'{models_path}{category}_{item}_{n_docs}_docs_{n_topics}_topics.model')\n",
    "        print(f'Topics for {category} articles {item}:')\n",
    "        top3_tokens_list = []\n",
    "        for ix in range(model.num_topics):\n",
    "            topic_tokens = model.get_topic_terms(ix, 10)\n",
    "            topic_tokens_list = [dictionary[pair[0]] for pair in topic_tokens]\n",
    "            print(f'topic {ix} ~ ({\", \".join(topic_tokens_list)})')\n",
    "            top3_tokens_list.append(topic_tokens_list[:3])\n",
    "        topic_tokens_top3.update({f'{category}_{item}': [' \\n'.join(top3) for top3 in top3_tokens_list]})\n",
    "        print()"
   ]
  },
  {
   "cell_type": "markdown",
   "metadata": {},
   "source": [
    "#### Project each article in the corresponding topic space and save coordinates"
   ]
  },
  {
   "cell_type": "code",
   "execution_count": 259,
   "metadata": {},
   "outputs": [],
   "source": [
    "import numpy as np"
   ]
  },
  {
   "cell_type": "code",
   "execution_count": 261,
   "metadata": {},
   "outputs": [
    {
     "name": "stdout",
     "output_type": "stream",
     "text": [
      "CPU times: user 1min 23s, sys: 11.7 s, total: 1min 35s\n",
      "Wall time: 19.3 s\n"
     ]
    }
   ],
   "source": [
    "%%time\n",
    "for category in ['sports', 'politics']:\n",
    "    for item in ['body', 'title']:\n",
    "        corpus = MmCorpus(f'{data_path}{category}_{item}.bow')\n",
    "        model = gensim.models.LdaModel.load(f'{models_path}{category}_{item}_{n_docs}_docs_{n_topics}_topics.model')\n",
    "        corpus_rep_in_topic_space = []\n",
    "        for bow in corpus:\n",
    "            z = np.zeros(n_topics)\n",
    "            for topic, weight in model[bow]:\n",
    "                z[topic] = weight\n",
    "            corpus_rep_in_topic_space.append(z.tolist())\n",
    "        df = pd.DataFrame(corpus_rep_in_topic_space)\n",
    "        df.columns = topic_tokens_top3[f'{category}_{item}']\n",
    "        df.to_csv(f'{data_path}{category}_{item}_{n_docs}_docs_{n_topics}_topics_lda_weights.csv', index=False)"
   ]
  }
 ],
 "metadata": {
  "kernelspec": {
   "display_name": "Python 3",
   "language": "python",
   "name": "python3"
  },
  "language_info": {
   "codemirror_mode": {
    "name": "ipython",
    "version": 3
   },
   "file_extension": ".py",
   "mimetype": "text/x-python",
   "name": "python",
   "nbconvert_exporter": "python",
   "pygments_lexer": "ipython3",
   "version": "3.6.8"
  }
 },
 "nbformat": 4,
 "nbformat_minor": 2
}
