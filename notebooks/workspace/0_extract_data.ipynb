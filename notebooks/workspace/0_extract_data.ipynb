{
 "cells": [
  {
   "cell_type": "markdown",
   "metadata": {},
   "source": [
    "#### Notebook purpose:\n",
    "This notebooks aims to collect data from http://eventregistry.org API. We extracted 10k articles related to politics, 10k articles related to sports and 10k articles not related neither to politics nor politics (we'll use this third sample to build the documents classifiers). The selection criterion to filter the 10k documents is the relevance measure returned by Event Registry API."
   ]
  },
  {
   "cell_type": "markdown",
   "metadata": {},
   "source": [
    "#### Start session with Event Registry API"
   ]
  },
  {
   "cell_type": "code",
   "execution_count": 1,
   "metadata": {},
   "outputs": [],
   "source": [
    "from eventregistry import *"
   ]
  },
  {
   "cell_type": "code",
   "execution_count": null,
   "metadata": {},
   "outputs": [],
   "source": [
    "key = '' # add your key here"
   ]
  },
  {
   "cell_type": "code",
   "execution_count": 2,
   "metadata": {},
   "outputs": [
    {
     "name": "stdout",
     "output_type": "stream",
     "text": [
      "using user provided API key for making requests\n",
      "Event Registry host: http://eventregistry.org\n",
      "Text analytics host: http://analytics.eventregistry.org\n"
     ]
    }
   ],
   "source": [
    "er = EventRegistry(apiKey=key)"
   ]
  },
  {
   "cell_type": "markdown",
   "metadata": {},
   "source": [
    "#### Specify the data range for the queries"
   ]
  },
  {
   "cell_type": "code",
   "execution_count": 3,
   "metadata": {},
   "outputs": [],
   "source": [
    "import datetime"
   ]
  },
  {
   "cell_type": "code",
   "execution_count": 4,
   "metadata": {},
   "outputs": [],
   "source": [
    "end_date = datetime.date(2019, 3, 9)\n",
    "start_date = end_date - datetime.timedelta(days=30)"
   ]
  },
  {
   "cell_type": "markdown",
   "metadata": {},
   "source": [
    "#### Specify the informations required for each article"
   ]
  },
  {
   "cell_type": "code",
   "execution_count": 5,
   "metadata": {},
   "outputs": [],
   "source": [
    "output = ArticleInfoFlags(bodyLen=-1,\n",
    "                          basicInfo=True,\n",
    "                          title=True,\n",
    "                          body=True,\n",
    "                          location=True,\n",
    "                          url=False,\n",
    "                          eventUri=False,\n",
    "                          authors=False,\n",
    "                          concepts=False,\n",
    "                          categories=True,\n",
    "                          links=False,\n",
    "                          videos=False,\n",
    "                          image=False,\n",
    "                          sentiment=False,\n",
    "                          dates=False,\n",
    "                          extractedDates=False,\n",
    "                          duplicateList=False,\n",
    "                          originalArticle=False,\n",
    "                          storyUri=False)"
   ]
  },
  {
   "cell_type": "markdown",
   "metadata": {},
   "source": [
    "#### Specify the queries to run"
   ]
  },
  {
   "cell_type": "code",
   "execution_count": 6,
   "metadata": {},
   "outputs": [],
   "source": [
    "q_sports = QueryArticlesIter(dateStart=start_date, \n",
    "                             dateEnd=end_date,\n",
    "                             conceptUri=er.getConceptUri('sports'),\n",
    "                             categoryUri=er.getCategoryUri('sports'),\n",
    "                             lang='eng',\n",
    "                             isDuplicateFilter='skipDuplicates')"
   ]
  },
  {
   "cell_type": "code",
   "execution_count": 7,
   "metadata": {},
   "outputs": [],
   "source": [
    "q_politics = QueryArticlesIter(dateStart=start_date, \n",
    "                               dateEnd=end_date,\n",
    "                               conceptUri=er.getConceptUri('politics'),\n",
    "                               categoryUri=er.getCategoryUri('politics'),\n",
    "                               lang='eng',\n",
    "                               isDuplicateFilter='skipDuplicates')"
   ]
  },
  {
   "cell_type": "code",
   "execution_count": 8,
   "metadata": {},
   "outputs": [],
   "source": [
    "q_other = QueryArticlesIter(dateStart=start_date, \n",
    "                            dateEnd=end_date,\n",
    "                            ignoreConceptUri=QueryItems.OR([er.getConceptUri('politics'), er.getConceptUri('sports')]),\n",
    "                            ignoreCategoryUri=QueryItems.OR([er.getCategoryUri('politics'), er.getCategoryUri('sports')]),\n",
    "                            lang='eng',\n",
    "                            isDuplicateFilter='skipDuplicates')"
   ]
  },
  {
   "cell_type": "markdown",
   "metadata": {},
   "source": [
    "#### Turn the query results into a pandas dataframes and save results"
   ]
  },
  {
   "cell_type": "code",
   "execution_count": 9,
   "metadata": {},
   "outputs": [],
   "source": [
    "import utils_api as utils"
   ]
  },
  {
   "cell_type": "code",
   "execution_count": 15,
   "metadata": {},
   "outputs": [
    {
     "name": "stdout",
     "output_type": "stream",
     "text": [
      "CPU times: user 1h 31min 27s, sys: 15min 8s, total: 1h 46min 36s\n",
      "Wall time: 22min 42s\n"
     ]
    }
   ],
   "source": [
    "%%time \n",
    "sports_article_df = utils.build_df_from_query(q_sports, er, 10000, ReturnInfo(articleInfo=output))\n",
    "sports_article_df.to_csv('../data/sports_10k.csv', index=False)"
   ]
  },
  {
   "cell_type": "code",
   "execution_count": 16,
   "metadata": {},
   "outputs": [
    {
     "name": "stdout",
     "output_type": "stream",
     "text": [
      "CPU times: user 2h 5min 59s, sys: 21min 3s, total: 2h 27min 3s\n",
      "Wall time: 30min 54s\n"
     ]
    }
   ],
   "source": [
    "%%time\n",
    "politics_article_df = utils.build_df_from_query(q_politics, er, 10000, ReturnInfo(articleInfo=output))\n",
    "politics_article_df.to_csv('../data/politics_10k.csv', index=False)"
   ]
  },
  {
   "cell_type": "code",
   "execution_count": 17,
   "metadata": {},
   "outputs": [
    {
     "name": "stdout",
     "output_type": "stream",
     "text": [
      "CPU times: user 56min 22s, sys: 8min 21s, total: 1h 4min 43s\n",
      "Wall time: 18min 40s\n"
     ]
    }
   ],
   "source": [
    "%%time \n",
    "other_article_df = utils.build_df_from_query(q_other, er, 10000, ReturnInfo(articleInfo=output))\n",
    "other_article_df.to_csv('../data/other_10k.csv', index=False)"
   ]
  }
 ],
 "metadata": {
  "kernelspec": {
   "display_name": "Python 3",
   "language": "python",
   "name": "python3"
  },
  "language_info": {
   "codemirror_mode": {
    "name": "ipython",
    "version": 3
   },
   "file_extension": ".py",
   "mimetype": "text/x-python",
   "name": "python",
   "nbconvert_exporter": "python",
   "pygments_lexer": "ipython3",
   "version": "3.6.8"
  }
 },
 "nbformat": 4,
 "nbformat_minor": 2
}
