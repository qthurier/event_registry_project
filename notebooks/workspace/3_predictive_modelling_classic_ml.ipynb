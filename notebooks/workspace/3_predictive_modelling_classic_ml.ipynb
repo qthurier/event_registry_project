{
 "cells": [
  {
   "cell_type": "markdown",
   "metadata": {},
   "source": [
    "#### Notebook purpose\n",
    "This notebook aims to do model selection for classical machine learning."
   ]
  },
  {
   "cell_type": "markdown",
   "metadata": {},
   "source": [
    "#### Load training and test X & y"
   ]
  },
  {
   "cell_type": "code",
   "execution_count": 7,
   "metadata": {},
   "outputs": [],
   "source": [
    "import pandas as pd\n",
    "from ast import literal_eval"
   ]
  },
  {
   "cell_type": "code",
   "execution_count": 8,
   "metadata": {},
   "outputs": [],
   "source": [
    "data_path = '../../data/'\n",
    "models_path = '../../models/'"
   ]
  },
  {
   "cell_type": "code",
   "execution_count": 9,
   "metadata": {},
   "outputs": [],
   "source": [
    "X_train = pd.read_csv(f'{data_path}X_train.csv', converters={'event_list': literal_eval, 'person_list': literal_eval})\n",
    "X_test = pd.read_csv(f'{data_path}X_test.csv', converters={'event_list': literal_eval, 'person_list': literal_eval})\n",
    "y_train = pd.read_csv(f'{data_path}y_train.csv').values.ravel()\n",
    "y_test = pd.read_csv(f'{data_path}y_test.csv').values.ravel()"
   ]
  },
  {
   "cell_type": "markdown",
   "metadata": {},
   "source": [
    "#### Define feature extraction pipelines\n",
    "The function make_features returns features extracted from the articles bodies and metadata:\n",
    "- the body and the title are converted into tfidf scores\n",
    "- the list of persons and events are onehot encoded (only the 1000 more frequent are kept)\n",
    "- the source is onehot encode"
   ]
  },
  {
   "cell_type": "code",
   "execution_count": 10,
   "metadata": {},
   "outputs": [],
   "source": [
    "from sklearn.pipeline import Pipeline, FeatureUnion, make_pipeline\n",
    "from sklearn.preprocessing import OneHotEncoder\n",
    "from sklearn.feature_selection import VarianceThreshold\n",
    "from sklearn.feature_extraction.text import TfidfVectorizer"
   ]
  },
  {
   "cell_type": "code",
   "execution_count": 11,
   "metadata": {},
   "outputs": [],
   "source": [
    "import phq_utils.utils_sklearn as utils"
   ]
  },
  {
   "cell_type": "code",
   "execution_count": 12,
   "metadata": {},
   "outputs": [],
   "source": [
    "feature_pipelines = {'body': make_pipeline(utils.ColumnExtractor('body'), TfidfVectorizer(max_df=0.75, min_df=10)),\n",
    "                     'title': make_pipeline(utils.ColumnExtractor('title'), TfidfVectorizer(max_df=0.75, min_df=10)),\n",
    "                     'source': make_pipeline(utils.ColumnExtractor(['source', 'dummy']), # adding dummy is just a hack to avoid OneHotEncoder compalining\n",
    "                                             OneHotEncoder(handle_unknown='ignore')), \n",
    "                     'person': make_pipeline(utils.ColumnExtractor('person_list'), utils.MostCommonEntity(1000)),\n",
    "                     'event': make_pipeline(utils.ColumnExtractor('event_list'), utils.MostCommonEntity(1000))}"
   ]
  },
  {
   "cell_type": "code",
   "execution_count": 13,
   "metadata": {},
   "outputs": [],
   "source": [
    "def make_features(feature_list):\n",
    "    return FeatureUnion([(feat, feature_pipelines[feat]) for feat in feature_list]) "
   ]
  },
  {
   "cell_type": "markdown",
   "metadata": {},
   "source": [
    "#### Let's have a look at the evolution of the performance while adding more features"
   ]
  },
  {
   "cell_type": "code",
   "execution_count": 14,
   "metadata": {},
   "outputs": [],
   "source": [
    "from sklearn.linear_model import LogisticRegression"
   ]
  },
  {
   "cell_type": "code",
   "execution_count": 15,
   "metadata": {},
   "outputs": [],
   "source": [
    "from sklearn.model_selection import cross_val_score"
   ]
  },
  {
   "cell_type": "code",
   "execution_count": 16,
   "metadata": {},
   "outputs": [],
   "source": [
    "import numpy as np"
   ]
  },
  {
   "cell_type": "code",
   "execution_count": 17,
   "metadata": {},
   "outputs": [
    {
     "name": "stdout",
     "output_type": "stream",
     "text": [
      "f1 macro score is 0.88 +- 0.004 when using body (~ 7169 individual features)\n",
      "f1 macro score is 0.90 +- 0.005 when using body, title (~ 10430 individual features)\n",
      "f1 macro score is 0.91 +- 0.004 when using body, title, source (~ 13406 individual features)\n",
      "f1 macro score is 0.92 +- 0.004 when using body, title, source, person (~ 14406 individual features)\n",
      "f1 macro score is 0.92 +- 0.004 when using body, title, source, person, event (~ 15406 individual features)\n",
      "CPU times: user 9min 9s, sys: 19.2 s, total: 9min 28s\n",
      "Wall time: 2min 14s\n"
     ]
    }
   ],
   "source": [
    "%%time\n",
    "feature_list = ['body', 'title', 'source', 'person', 'event']\n",
    "for i in range(1, len(feature_list) + 1):\n",
    "    n_col = make_features(feature_list[:i]).fit_transform(X_train).shape[1]\n",
    "    model = Pipeline([('feature', make_features(feature_list[:i])),\n",
    "                      ('filter', VarianceThreshold()),\n",
    "                      ('clf', LogisticRegression(solver='lbfgs', multi_class='multinomial', max_iter=1E3))])\n",
    "    scores = cross_val_score(model, X_train, y_train.ravel(), cv=5, scoring='f1_macro')\n",
    "    print(f'f1 macro score is {np.mean(scores):0.2f} +- {np.std(scores):0.3f} when using {\", \".join(feature_list[:i])} (~ {n_col} individual features)')"
   ]
  },
  {
   "cell_type": "markdown",
   "metadata": {},
   "source": [
    "#### Let's try grid search with a boosting model"
   ]
  },
  {
   "cell_type": "code",
   "execution_count": 18,
   "metadata": {},
   "outputs": [],
   "source": [
    "from lightgbm import LGBMClassifier"
   ]
  },
  {
   "cell_type": "code",
   "execution_count": 19,
   "metadata": {},
   "outputs": [],
   "source": [
    "model = Pipeline([('feature', make_features(['body', 'title', 'source', 'person'])),\n",
    "                  ('filter', VarianceThreshold()),\n",
    "                  ('clf', LGBMClassifier(objective='multiclass', random_state=42, num_threads=28))]) # love my AMD Ryzen Threadripper.."
   ]
  },
  {
   "cell_type": "code",
   "execution_count": 20,
   "metadata": {},
   "outputs": [],
   "source": [
    "from sklearn.model_selection import GridSearchCV"
   ]
  },
  {
   "cell_type": "code",
   "execution_count": 32,
   "metadata": {},
   "outputs": [],
   "source": [
    "space = {\n",
    "    'clf__n_estimators': [100],\n",
    "    'clf__learning_rate': [0.1, 0.01],\n",
    "    'clf__subsample': [0.8, 0.4],\n",
    "    'clf__feature_fraction': [0.8, 0.4]\n",
    "    }\n",
    "\n",
    "grid = GridSearchCV(estimator=model, param_grid=space, cv=5, scoring='f1_macro')"
   ]
  },
  {
   "cell_type": "code",
   "execution_count": 33,
   "metadata": {},
   "outputs": [
    {
     "name": "stdout",
     "output_type": "stream",
     "text": [
      "CPU times: user 2h 24min 17s, sys: 2min 11s, total: 2h 26min 28s\n",
      "Wall time: 12min 6s\n"
     ]
    }
   ],
   "source": [
    "%time search = grid.fit(X_train, y_train)"
   ]
  },
  {
   "cell_type": "code",
   "execution_count": 35,
   "metadata": {},
   "outputs": [
    {
     "name": "stdout",
     "output_type": "stream",
     "text": [
      "best f1 macro score is 0.90 +- 0.000 with feature_fraction=0.4, learning_rate=0.1, n_estimators=100, subsample=0.8\n"
     ]
    }
   ],
   "source": [
    "argmax_str = ', '.join([str(k.split('__')[-1]) + '=' + str(v) for k, v in grid.best_params_.items()])\n",
    "print(f'best f1 macro score is {np.mean(grid.best_score_):0.2f} +- {np.std(grid.best_score_):0.3f} with {argmax_str}')"
   ]
  },
  {
   "cell_type": "markdown",
   "metadata": {},
   "source": [
    "#### Serialize best models"
   ]
  },
  {
   "cell_type": "code",
   "execution_count": 27,
   "metadata": {},
   "outputs": [],
   "source": [
    "from sklearn.externals import joblib"
   ]
  },
  {
   "cell_type": "code",
   "execution_count": 36,
   "metadata": {},
   "outputs": [],
   "source": [
    "best_logreg1 = Pipeline([('feature', make_features(['body', 'title', 'source', 'person'])),\n",
    "                         ('filter', VarianceThreshold()),\n",
    "                         ('clf', LogisticRegression(solver='lbfgs', multi_class='multinomial', max_iter=1E3))])\n",
    "\n",
    "best_logreg2 = Pipeline([('feature', make_features(['body', 'title', 'source', 'person', 'event'])),\n",
    "                         ('filter', VarianceThreshold()),\n",
    "                         ('clf', LogisticRegression(solver='lbfgs', multi_class='multinomial', max_iter=1E3))])\n",
    "\n",
    "best_boosting = Pipeline([('feature', make_features(['body', 'title', 'source', 'person'])),\n",
    "                  ('filter', VarianceThreshold()),\n",
    "                  ('clf', LGBMClassifier(objective='multiclass', random_state=42, n_estimators=100, learning_rate=0.1, feature_fraction=0.4, subsample=0.8))])"
   ]
  },
  {
   "cell_type": "code",
   "execution_count": 37,
   "metadata": {},
   "outputs": [
    {
     "data": {
      "text/plain": [
       "Pipeline(memory=None,\n",
       "     steps=[('feature', FeatureUnion(n_jobs=None,\n",
       "       transformer_list=[('body', Pipeline(memory=None,\n",
       "     steps=[('columnextractor', <phq_utils.utils_sklearn.ColumnExtractor object at 0x7fe0851e3860>), ('tfidfvectorizer', TfidfVectorizer(analyzer='word', binary=False, decode_error='strict',\n",
       "        ...   reg_lambda=0.0, silent=True, subsample=0.8,\n",
       "        subsample_for_bin=200000, subsample_freq=0))])"
      ]
     },
     "execution_count": 37,
     "metadata": {},
     "output_type": "execute_result"
    }
   ],
   "source": [
    "best_logreg1.fit(X_train, y_train)\n",
    "best_logreg2.fit(X_train, y_train)\n",
    "best_boosting.fit(X_train, y_train)"
   ]
  },
  {
   "cell_type": "code",
   "execution_count": 38,
   "metadata": {},
   "outputs": [
    {
     "data": {
      "text/plain": [
       "['../../models/best_boosting.pkl']"
      ]
     },
     "execution_count": 38,
     "metadata": {},
     "output_type": "execute_result"
    }
   ],
   "source": [
    "joblib.dump(best_logreg1, f'{models_path}best_logreg1.pkl')\n",
    "joblib.dump(best_logreg2, f'{models_path}best_logreg2.pkl') \n",
    "joblib.dump(best_boosting, f'{models_path}best_boosting.pkl') "
   ]
  },
  {
   "cell_type": "code",
   "execution_count": null,
   "metadata": {},
   "outputs": [],
   "source": []
  }
 ],
 "metadata": {
  "kernelspec": {
   "display_name": "Python 3",
   "language": "python",
   "name": "python3"
  },
  "language_info": {
   "codemirror_mode": {
    "name": "ipython",
    "version": 3
   },
   "file_extension": ".py",
   "mimetype": "text/x-python",
   "name": "python",
   "nbconvert_exporter": "python",
   "pygments_lexer": "ipython3",
   "version": "3.6.8"
  }
 },
 "nbformat": 4,
 "nbformat_minor": 2
}
